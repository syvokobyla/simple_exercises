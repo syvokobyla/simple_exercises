{
 "cells": [
  {
   "cell_type": "code",
   "execution_count": 18,
   "metadata": {
    "collapsed": false
   },
   "outputs": [
    {
     "name": "stderr",
     "output_type": "stream",
     "text": [
      "..\n",
      "----------------------------------------------------------------------\n",
      "Ran 2 tests in 0.003s\n",
      "\n",
      "OK\n"
     ]
    },
    {
     "data": {
      "text/plain": [
       "<unittest.main.TestProgram at 0x7f4138530a20>"
      ]
     },
     "execution_count": 18,
     "metadata": {},
     "output_type": "execute_result"
    }
   ],
   "source": [
    "import unittest\n",
    "\n",
    "\n",
    "class Tests(unittest.TestCase):\n",
    "    \n",
    "    def test_reversing(self):\n",
    "        self.assertEqual(reversing(\"\"), \"\")\n",
    "        self.assertEqual(reversing(\"a\"), \"a\")\n",
    "        self.assertEqual(reversing(\"aaaaa\"), \"aaaaa\")\n",
    "        self.assertEqual(reversing(\"abcde\"), \"edcba\")\n",
    "        self.assertEqual(reversing(\"abde\"), \"edba\")\n",
    "        \n",
    "    def test_remove_dublicates(self):\n",
    "        self.assertEqual(remove_dublicates(\"\"), \"\")\n",
    "        self.assertEqual(remove_dublicates(\"a\"), \"a\")\n",
    "        self.assertEqual(remove_dublicates(\"aabbacfgb\"), \"abcfg\")\n",
    "    \n",
    "    \n",
    "def remove_dublicates(st):\n",
    "    \"\"\"Stable removal of dublicates.\n",
    "    \n",
    "    Does not use additional memory. Time complexity is O(n**2).\n",
    "    \n",
    "    Args:\n",
    "        st (str): an input string to remove dublicates.\n",
    "        \n",
    "    Return:\n",
    "        string without duplicates.\n",
    "        \n",
    "    Example:\n",
    "        >>> remove_dublicates('aba')\n",
    "        'ab'\n",
    "    \"\"\"\n",
    "    s = list(st)\n",
    "    i = 0\n",
    "    while i < len(s) - 1:\n",
    "        for j in range(len(s) - 1, i, -1):\n",
    "            if s[i] == s[j]:\n",
    "                del s[j]\n",
    "        i += 1\n",
    "    return ''.join(s)\n",
    "\n",
    "\n",
    "def reversing(s):\n",
    "    \"\"\"Reverse string, without using standard library methods.\n",
    "    \n",
    "    Args:\n",
    "        s (str): an input string to reverse\n",
    "    \n",
    "    Return:\n",
    "        reversed string\n",
    "        \n",
    "    Example:\n",
    "        >>> reversing('1234')\n",
    "        '4321'\n",
    "        \n",
    "    \"\"\"\n",
    "    s = list(s)\n",
    "    l = len(s)\n",
    "    for i in range(l // 2):\n",
    "        s[i], s[l - 1 - i] = s[l - 1 - i], s[i]\n",
    "    return ''.join(s)\n",
    "    #return ''.join([s[index] for index in range(len(s) - 1, -1, -1)])\n",
    "\n",
    "unittest.main(argv=['first-arg-is-ignored'], exit=False)"
   ]
  },
  {
   "cell_type": "code",
   "execution_count": null,
   "metadata": {
    "collapsed": true
   },
   "outputs": [],
   "source": []
  }
 ],
 "metadata": {
  "anaconda-cloud": {},
  "kernelspec": {
   "display_name": "Python [conda root]",
   "language": "python",
   "name": "conda-root-py"
  },
  "language_info": {
   "codemirror_mode": {
    "name": "ipython",
    "version": 3
   },
   "file_extension": ".py",
   "mimetype": "text/x-python",
   "name": "python",
   "nbconvert_exporter": "python",
   "pygments_lexer": "ipython3",
   "version": "3.5.2"
  }
 },
 "nbformat": 4,
 "nbformat_minor": 1
}
